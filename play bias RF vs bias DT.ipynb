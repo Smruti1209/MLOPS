{
 "cells": [
  {
   "cell_type": "code",
   "execution_count": 1,
   "id": "1c9b91a6",
   "metadata": {},
   "outputs": [],
   "source": [
    "import pandas as pd\n",
    "import numpy as np\n",
    "from sklearn.tree import DecisionTreeRegressor\n",
    "from sklearn.ensemble import RandomForestRegressor\n",
    "from sklearn.model_selection import train_test_split"
   ]
  },
  {
   "cell_type": "code",
   "execution_count": null,
   "id": "6a05d78a",
   "metadata": {},
   "outputs": [],
   "source": [
    "rf = RandomForestRegressor()"
   ]
  },
  {
   "cell_type": "code",
   "execution_count": 25,
   "id": "4a45d2b2",
   "metadata": {},
   "outputs": [
    {
     "name": "stdout",
     "output_type": "stream",
     "text": [
      "depth: 2\n",
      "DT: (0.819493146268072, 7.080837100319158) RF: (0.596810668260367, 6.559724018957821)\n",
      "depth: 3\n",
      "DT: (0.6851291809311022, 4.9520347226707875) RF: (0.2938374468376863, 4.6460435551946215)\n",
      "depth: 4\n",
      "DT: (0.5612306814127042, 4.151347889490404) RF: (0.2506001117888518, 4.002508681312595)\n",
      "depth: 5\n",
      "DT: (0.4964757226056592, 3.8100153767699765) RF: (0.24865259823246966, 3.7629399518579647)\n",
      "depth: 6\n",
      "DT: (0.6193149120555063, 3.7649403748884867) RF: (0.25279023556045904, 3.633928418470776)\n",
      "depth: 7\n",
      "DT: (0.7460879845873379, 3.602822231392732) RF: (0.333621317806708, 3.5506998053802854)\n",
      "depth: 8\n",
      "DT: (1.0647704257103174, 3.5713426746130557) RF: (0.39376058867497776, 3.5223149149332884)\n",
      "depth: 9\n",
      "DT: (1.3425664759368114, 3.5156451799012456) RF: (0.4841379142594824, 3.4548672749472398)\n",
      "Decision Tree Results:  [(0.819493146268072, 7.080837100319158), (0.6851291809311022, 4.9520347226707875), (0.5612306814127042, 4.151347889490404), (0.4964757226056592, 3.8100153767699765), (0.6193149120555063, 3.7649403748884867), (0.7460879845873379, 3.602822231392732), (1.0647704257103174, 3.5713426746130557), (1.3425664759368114, 3.5156451799012456)]\n",
      "Random Forest Results:  [(0.596810668260367, 6.559724018957821), (0.2938374468376863, 4.6460435551946215), (0.2506001117888518, 4.002508681312595), (0.24865259823246966, 3.7629399518579647), (0.25279023556045904, 3.633928418470776), (0.333621317806708, 3.5506998053802854), (0.39376058867497776, 3.5223149149332884), (0.4841379142594824, 3.4548672749472398)]\n"
     ]
    }
   ],
   "source": [
    "def calc_bias_variance(depth, train, test):\n",
    "    k = 10\n",
    "    X_test = test.drop(['F9'], axis=1) \n",
    "    y_test = test['F9']\n",
    "\n",
    "    results = {}\n",
    "    for model in [DecisionTreeRegressor, RandomForestRegressor]:\n",
    "        preds = []\n",
    "        pred_df = pd.DataFrame()\n",
    "        for i in np.arange(k):\n",
    "            _, training = train_test_split(train, test_size=0.3)\n",
    "            X_training = training.drop(['F9'], axis=1) \n",
    "            y_training = training['F9']\n",
    "            \n",
    "            # fit model\n",
    "            if model == RandomForestRegressor:\n",
    "                model_instance = model(n_estimators=5, max_depth=depth).fit(X_training, y_training)\n",
    "            else:\n",
    "                model_instance = model(max_depth=depth).fit(X_training, y_training)\n",
    "            \n",
    "            y_hat = model_instance.predict(X_test)\n",
    "            preds.append(y_hat)\n",
    "            pred_df = pd.concat([pred_df, pd.DataFrame(preds[i])], axis=1)\n",
    "\n",
    "        var = np.array([])\n",
    "        for i in np.arange(pred_df.shape[0]):\n",
    "            var = np.append(var, np.var(pred_df.iloc[i][:]))\n",
    "\n",
    "        pred_df['rowmean'] = pred_df.mean(axis=1) \n",
    "        gap = np.array(y_test) - np.array(pred_df.rowmean)\n",
    "        \n",
    "        results[model.__name__] = (np.mean(var),np.mean(gap**2))\n",
    "\n",
    "    return results\n",
    "\n",
    "df = pd.read_csv(\"CASP.csv\")\n",
    "train, test = train_test_split(df, test_size=0.1)\n",
    "\n",
    "results_dt = []\n",
    "results_rf = []\n",
    "depths = np.arange(start=2,stop=10,step=1)\n",
    "\n",
    "for depth in depths:\n",
    "    results = calc_bias_variance(depth, train, test)\n",
    "    print(\"depth:\",depth)\n",
    "    print(\"DT:\",results['DecisionTreeRegressor'],\"RF:\",results['RandomForestRegressor'])\n",
    "    results_dt.append(results['DecisionTreeRegressor'])\n",
    "    results_rf.append(results['RandomForestRegressor'])\n",
    "\n",
    "print(\"Decision Tree Results: \", results_dt)\n",
    "print(\"Random Forest Results: \", results_rf)"
   ]
  },
  {
   "cell_type": "code",
   "execution_count": 26,
   "id": "728e58c8",
   "metadata": {},
   "outputs": [
    {
     "data": {
      "text/plain": [
       "[(0.819493146268072, 7.080837100319158),\n",
       " (0.6851291809311022, 4.9520347226707875),\n",
       " (0.5612306814127042, 4.151347889490404),\n",
       " (0.4964757226056592, 3.8100153767699765),\n",
       " (0.6193149120555063, 3.7649403748884867),\n",
       " (0.7460879845873379, 3.602822231392732),\n",
       " (1.0647704257103174, 3.5713426746130557),\n",
       " (1.3425664759368114, 3.5156451799012456)]"
      ]
     },
     "execution_count": 26,
     "metadata": {},
     "output_type": "execute_result"
    }
   ],
   "source": [
    "results_dt"
   ]
  },
  {
   "cell_type": "code",
   "execution_count": 27,
   "id": "ebf2c7b0",
   "metadata": {},
   "outputs": [
    {
     "data": {
      "text/plain": [
       "[(0.596810668260367, 6.559724018957821),\n",
       " (0.2938374468376863, 4.6460435551946215),\n",
       " (0.2506001117888518, 4.002508681312595),\n",
       " (0.24865259823246966, 3.7629399518579647),\n",
       " (0.25279023556045904, 3.633928418470776),\n",
       " (0.333621317806708, 3.5506998053802854),\n",
       " (0.39376058867497776, 3.5223149149332884),\n",
       " (0.4841379142594824, 3.4548672749472398)]"
      ]
     },
     "execution_count": 27,
     "metadata": {},
     "output_type": "execute_result"
    }
   ],
   "source": [
    "results_rf"
   ]
  },
  {
   "cell_type": "code",
   "execution_count": null,
   "id": "e95e6004",
   "metadata": {},
   "outputs": [],
   "source": []
  }
 ],
 "metadata": {
  "kernelspec": {
   "display_name": "Python 3 (ipykernel)",
   "language": "python",
   "name": "python3"
  },
  "language_info": {
   "codemirror_mode": {
    "name": "ipython",
    "version": 3
   },
   "file_extension": ".py",
   "mimetype": "text/x-python",
   "name": "python",
   "nbconvert_exporter": "python",
   "pygments_lexer": "ipython3",
   "version": "3.10.9"
  }
 },
 "nbformat": 4,
 "nbformat_minor": 5
}
